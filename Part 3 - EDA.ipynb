{
 "cells": [
  {
   "cell_type": "markdown",
   "id": "d0ae904a-c0d9-42ef-b517-bb29dba233b8",
   "metadata": {},
   "source": [
    "# TMDB EDA\n",
    "\n",
    "- Darlene Adams"
   ]
  },
  {
   "cell_type": "markdown",
   "id": "0b959b05-606f-4416-a777-1f7574e0c4bf",
   "metadata": {},
   "source": [
    "##  Import Packages"
   ]
  },
  {
   "cell_type": "code",
   "execution_count": 11,
   "id": "47212984-9bda-4608-8a84-c777a66a4f81",
   "metadata": {},
   "outputs": [
    {
     "data": {
      "text/plain": [
       "['.ipynb_checkpoints',\n",
       " 'create_movies_database.sql',\n",
       " 'final_tmdb_data_2010.csv.gz',\n",
       " 'movies_erd.mwb',\n",
       " 'Movies_ERD.png',\n",
       " 'title-akas-us-only.csv',\n",
       " 'title.basics.tsv.gz',\n",
       " 'title.ratings.tsv.gz',\n",
       " 'titles_ratings.csv',\n",
       " 'title_basics.csv',\n",
       " 'tmdb_api_results_2001.json',\n",
       " 'tmdb_api_results_2002.json',\n",
       " 'tmdb_api_results_2010.json',\n",
       " 'tmdb_results_years_2001.csv.gz',\n",
       " 'tmdb_results_years_2002.csv.gz',\n",
       " 'tmdb_years.csv']"
      ]
     },
     "execution_count": 11,
     "metadata": {},
     "output_type": "execute_result"
    }
   ],
   "source": [
    "# Import packages\n",
    "import os, time, json\n",
    "import tmdbsimple as tmdb \n",
    "import pandas as pd\n",
    "from tqdm.notebook import tqdm_notebook\n",
    "import numpy as np\n",
    "import matplotlib.pyplot as plt\n",
    "import seaborn as sns\n",
    "pd.set_option('display.max_columns',100)\n",
    "# Create the folder for saving files (if it doesn't exist)\n",
    "FOLDER = \"Data/\"\n",
    "os.makedirs(FOLDER, exist_ok=True)\n",
    "os.listdir(FOLDER)"
   ]
  },
  {
   "cell_type": "code",
   "execution_count": 17,
   "id": "ddca10d2-4967-4c52-b04c-6cc0baac915d",
   "metadata": {},
   "outputs": [
    {
     "name": "stdout",
     "output_type": "stream",
     "text": [
      "<class 'pandas.core.frame.DataFrame'>\n",
      "RangeIndex: 2653 entries, 0 to 2652\n",
      "Data columns (total 26 columns):\n",
      " #   Column                 Non-Null Count  Dtype  \n",
      "---  ------                 --------------  -----  \n",
      " 0   imdb_id                2653 non-null   object \n",
      " 1   adult                  2651 non-null   float64\n",
      " 2   backdrop_path          1522 non-null   object \n",
      " 3   belongs_to_collection  217 non-null    object \n",
      " 4   budget                 2651 non-null   float64\n",
      " 5   genres                 2651 non-null   object \n",
      " 6   homepage               213 non-null    object \n",
      " 7   id                     2651 non-null   float64\n",
      " 8   original_language      2651 non-null   object \n",
      " 9   original_title         2651 non-null   object \n",
      " 10  overview               2592 non-null   object \n",
      " 11  popularity             2651 non-null   float64\n",
      " 12  poster_path            2410 non-null   object \n",
      " 13  production_companies   2651 non-null   object \n",
      " 14  production_countries   2651 non-null   object \n",
      " 15  release_date           2628 non-null   object \n",
      " 16  revenue                2651 non-null   float64\n",
      " 17  runtime                2651 non-null   float64\n",
      " 18  spoken_languages       2651 non-null   object \n",
      " 19  status                 2651 non-null   object \n",
      " 20  tagline                1153 non-null   object \n",
      " 21  title                  2651 non-null   object \n",
      " 22  video                  2651 non-null   float64\n",
      " 23  vote_average           2651 non-null   float64\n",
      " 24  vote_count             2651 non-null   float64\n",
      " 25  certification          869 non-null    object \n",
      "dtypes: float64(9), object(17)\n",
      "memory usage: 539.0+ KB\n"
     ]
    }
   ],
   "source": [
    "df = pd.read_csv('Data/tmdb_years.csv')\n",
    "df.info()"
   ]
  },
  {
   "cell_type": "code",
   "execution_count": 18,
   "id": "431fe619-4102-456c-90ac-1339a0b6feff",
   "metadata": {},
   "outputs": [
    {
     "data": {
      "text/html": [
       "<div>\n",
       "<style scoped>\n",
       "    .dataframe tbody tr th:only-of-type {\n",
       "        vertical-align: middle;\n",
       "    }\n",
       "\n",
       "    .dataframe tbody tr th {\n",
       "        vertical-align: top;\n",
       "    }\n",
       "\n",
       "    .dataframe thead th {\n",
       "        text-align: right;\n",
       "    }\n",
       "</style>\n",
       "<table border=\"1\" class=\"dataframe\">\n",
       "  <thead>\n",
       "    <tr style=\"text-align: right;\">\n",
       "      <th></th>\n",
       "      <th>adult</th>\n",
       "      <th>budget</th>\n",
       "      <th>id</th>\n",
       "      <th>popularity</th>\n",
       "      <th>revenue</th>\n",
       "      <th>runtime</th>\n",
       "      <th>video</th>\n",
       "      <th>vote_average</th>\n",
       "      <th>vote_count</th>\n",
       "    </tr>\n",
       "  </thead>\n",
       "  <tbody>\n",
       "    <tr>\n",
       "      <th>count</th>\n",
       "      <td>2651.000000</td>\n",
       "      <td>2.651000e+03</td>\n",
       "      <td>2.651000e+03</td>\n",
       "      <td>2651.000000</td>\n",
       "      <td>2.651000e+03</td>\n",
       "      <td>2651.000000</td>\n",
       "      <td>2651.000000</td>\n",
       "      <td>2651.000000</td>\n",
       "      <td>2651.000000</td>\n",
       "    </tr>\n",
       "    <tr>\n",
       "      <th>mean</th>\n",
       "      <td>0.001886</td>\n",
       "      <td>5.254924e+06</td>\n",
       "      <td>1.791965e+05</td>\n",
       "      <td>6.049896</td>\n",
       "      <td>1.215634e+07</td>\n",
       "      <td>93.958506</td>\n",
       "      <td>0.002263</td>\n",
       "      <td>4.614488</td>\n",
       "      <td>307.498680</td>\n",
       "    </tr>\n",
       "    <tr>\n",
       "      <th>std</th>\n",
       "      <td>0.043396</td>\n",
       "      <td>1.704591e+07</td>\n",
       "      <td>2.370477e+05</td>\n",
       "      <td>11.062873</td>\n",
       "      <td>6.004467e+07</td>\n",
       "      <td>27.885084</td>\n",
       "      <td>0.047529</td>\n",
       "      <td>2.476859</td>\n",
       "      <td>1466.392564</td>\n",
       "    </tr>\n",
       "    <tr>\n",
       "      <th>min</th>\n",
       "      <td>0.000000</td>\n",
       "      <td>0.000000e+00</td>\n",
       "      <td>6.400000e+01</td>\n",
       "      <td>0.000000</td>\n",
       "      <td>0.000000e+00</td>\n",
       "      <td>0.000000</td>\n",
       "      <td>0.000000</td>\n",
       "      <td>0.000000</td>\n",
       "      <td>0.000000</td>\n",
       "    </tr>\n",
       "    <tr>\n",
       "      <th>25%</th>\n",
       "      <td>0.000000</td>\n",
       "      <td>0.000000e+00</td>\n",
       "      <td>2.512950e+04</td>\n",
       "      <td>1.176500</td>\n",
       "      <td>0.000000e+00</td>\n",
       "      <td>88.000000</td>\n",
       "      <td>0.000000</td>\n",
       "      <td>3.500000</td>\n",
       "      <td>1.000000</td>\n",
       "    </tr>\n",
       "    <tr>\n",
       "      <th>50%</th>\n",
       "      <td>0.000000</td>\n",
       "      <td>0.000000e+00</td>\n",
       "      <td>7.044300e+04</td>\n",
       "      <td>2.301000</td>\n",
       "      <td>0.000000e+00</td>\n",
       "      <td>94.000000</td>\n",
       "      <td>0.000000</td>\n",
       "      <td>5.400000</td>\n",
       "      <td>8.000000</td>\n",
       "    </tr>\n",
       "    <tr>\n",
       "      <th>75%</th>\n",
       "      <td>0.000000</td>\n",
       "      <td>0.000000e+00</td>\n",
       "      <td>2.696945e+05</td>\n",
       "      <td>6.277000</td>\n",
       "      <td>0.000000e+00</td>\n",
       "      <td>105.000000</td>\n",
       "      <td>0.000000</td>\n",
       "      <td>6.346500</td>\n",
       "      <td>49.000000</td>\n",
       "    </tr>\n",
       "    <tr>\n",
       "      <th>max</th>\n",
       "      <td>1.000000</td>\n",
       "      <td>1.400000e+08</td>\n",
       "      <td>1.197023e+06</td>\n",
       "      <td>169.101000</td>\n",
       "      <td>9.764756e+08</td>\n",
       "      <td>301.000000</td>\n",
       "      <td>1.000000</td>\n",
       "      <td>10.000000</td>\n",
       "      <td>25538.000000</td>\n",
       "    </tr>\n",
       "  </tbody>\n",
       "</table>\n",
       "</div>"
      ],
      "text/plain": [
       "             adult        budget            id   popularity       revenue  \\\n",
       "count  2651.000000  2.651000e+03  2.651000e+03  2651.000000  2.651000e+03   \n",
       "mean      0.001886  5.254924e+06  1.791965e+05     6.049896  1.215634e+07   \n",
       "std       0.043396  1.704591e+07  2.370477e+05    11.062873  6.004467e+07   \n",
       "min       0.000000  0.000000e+00  6.400000e+01     0.000000  0.000000e+00   \n",
       "25%       0.000000  0.000000e+00  2.512950e+04     1.176500  0.000000e+00   \n",
       "50%       0.000000  0.000000e+00  7.044300e+04     2.301000  0.000000e+00   \n",
       "75%       0.000000  0.000000e+00  2.696945e+05     6.277000  0.000000e+00   \n",
       "max       1.000000  1.400000e+08  1.197023e+06   169.101000  9.764756e+08   \n",
       "\n",
       "           runtime        video  vote_average    vote_count  \n",
       "count  2651.000000  2651.000000   2651.000000   2651.000000  \n",
       "mean     93.958506     0.002263      4.614488    307.498680  \n",
       "std      27.885084     0.047529      2.476859   1466.392564  \n",
       "min       0.000000     0.000000      0.000000      0.000000  \n",
       "25%      88.000000     0.000000      3.500000      1.000000  \n",
       "50%      94.000000     0.000000      5.400000      8.000000  \n",
       "75%     105.000000     0.000000      6.346500     49.000000  \n",
       "max     301.000000     1.000000     10.000000  25538.000000  "
      ]
     },
     "execution_count": 18,
     "metadata": {},
     "output_type": "execute_result"
    }
   ],
   "source": [
    "df.describe()"
   ]
  },
  {
   "cell_type": "markdown",
   "id": "0f4ca082-b940-452c-8f7a-28e4721a2590",
   "metadata": {},
   "source": [
    "## Create Visualizations to Answer the Following Questions:\n",
    "\n",
    "- \n",
    "How many movies had at least some valid financial information (values > 0 for budget OR revenue)\n",
    "- ?    - \r\n",
    "Please exclude any movies with 0's for budget AND revenue from the remaining visualization\n",
    "    - s- .\r\n",
    "How many movies are there in each of the certification categories (G/PG/PG-13/R- )?\r\n",
    "What is the average revenue per certification catego- ry?\r\n",
    "What is the average budget per certification category?"
   ]
  },
  {
   "cell_type": "code",
   "execution_count": 19,
   "id": "8affaeb0-bebd-4c82-b1f4-3540399b9579",
   "metadata": {},
   "outputs": [
    {
     "data": {
      "text/plain": [
       "<bound method IndexOpsMixin.value_counts of 0              NaN\n",
       "1       48000000.0\n",
       "2              0.0\n",
       "3              0.0\n",
       "4       22000000.0\n",
       "           ...    \n",
       "2648           0.0\n",
       "2649           0.0\n",
       "2650           0.0\n",
       "2651           0.0\n",
       "2652           0.0\n",
       "Name: budget, Length: 2653, dtype: float64>"
      ]
     },
     "execution_count": 19,
     "metadata": {},
     "output_type": "execute_result"
    }
   ],
   "source": [
    "df['budget'].value_counts"
   ]
  },
  {
   "cell_type": "code",
   "execution_count": 20,
   "id": "2d975133-226a-4b09-a091-310537d78f8e",
   "metadata": {},
   "outputs": [
    {
     "data": {
      "text/plain": [
       "<bound method IndexOpsMixin.value_counts of 0              NaN\n",
       "1       76019048.0\n",
       "2              0.0\n",
       "3              0.0\n",
       "4        5271666.0\n",
       "           ...    \n",
       "2648           0.0\n",
       "2649           0.0\n",
       "2650           0.0\n",
       "2651           0.0\n",
       "2652           0.0\n",
       "Name: revenue, Length: 2653, dtype: float64>"
      ]
     },
     "execution_count": 20,
     "metadata": {},
     "output_type": "execute_result"
    }
   ],
   "source": [
    "df['revenue'].value_counts"
   ]
  },
  {
   "cell_type": "code",
   "execution_count": 22,
   "id": "fb377092-efaf-4c0a-88b5-a74cb0626f2f",
   "metadata": {},
   "outputs": [],
   "source": [
    "fdf = df.query('budget <= 0 & revenue <= 0 ')"
   ]
  },
  {
   "cell_type": "code",
   "execution_count": 23,
   "id": "5d23ffbe-9dcc-465d-bc4d-f1a397705d35",
   "metadata": {},
   "outputs": [
    {
     "name": "stdout",
     "output_type": "stream",
     "text": [
      "<class 'pandas.core.frame.DataFrame'>\n",
      "Int64Index: 1925 entries, 2 to 2652\n",
      "Data columns (total 26 columns):\n",
      " #   Column                 Non-Null Count  Dtype  \n",
      "---  ------                 --------------  -----  \n",
      " 0   imdb_id                1925 non-null   object \n",
      " 1   adult                  1925 non-null   float64\n",
      " 2   backdrop_path          913 non-null    object \n",
      " 3   belongs_to_collection  95 non-null     object \n",
      " 4   budget                 1925 non-null   float64\n",
      " 5   genres                 1925 non-null   object \n",
      " 6   homepage               99 non-null     object \n",
      " 7   id                     1925 non-null   float64\n",
      " 8   original_language      1925 non-null   object \n",
      " 9   original_title         1925 non-null   object \n",
      " 10  overview               1869 non-null   object \n",
      " 11  popularity             1925 non-null   float64\n",
      " 12  poster_path            1710 non-null   object \n",
      " 13  production_companies   1925 non-null   object \n",
      " 14  production_countries   1925 non-null   object \n",
      " 15  release_date           1903 non-null   object \n",
      " 16  revenue                1925 non-null   float64\n",
      " 17  runtime                1925 non-null   float64\n",
      " 18  spoken_languages       1925 non-null   object \n",
      " 19  status                 1925 non-null   object \n",
      " 20  tagline                606 non-null    object \n",
      " 21  title                  1925 non-null   object \n",
      " 22  video                  1925 non-null   float64\n",
      " 23  vote_average           1925 non-null   float64\n",
      " 24  vote_count             1925 non-null   float64\n",
      " 25  certification          396 non-null    object \n",
      "dtypes: float64(9), object(17)\n",
      "memory usage: 406.1+ KB\n"
     ]
    }
   ],
   "source": [
    "fdf.info()"
   ]
  },
  {
   "cell_type": "code",
   "execution_count": 24,
   "id": "3836cfac-b341-4ec3-87e6-f14e49de4441",
   "metadata": {},
   "outputs": [],
   "source": [
    "df.drop(fdf.index, inplace=True)"
   ]
  },
  {
   "cell_type": "code",
   "execution_count": 25,
   "id": "dd446ae3-9eeb-4e22-9069-30084b871958",
   "metadata": {},
   "outputs": [
    {
     "name": "stdout",
     "output_type": "stream",
     "text": [
      "<class 'pandas.core.frame.DataFrame'>\n",
      "Int64Index: 728 entries, 0 to 2620\n",
      "Data columns (total 26 columns):\n",
      " #   Column                 Non-Null Count  Dtype  \n",
      "---  ------                 --------------  -----  \n",
      " 0   imdb_id                728 non-null    object \n",
      " 1   adult                  726 non-null    float64\n",
      " 2   backdrop_path          609 non-null    object \n",
      " 3   belongs_to_collection  122 non-null    object \n",
      " 4   budget                 726 non-null    float64\n",
      " 5   genres                 726 non-null    object \n",
      " 6   homepage               114 non-null    object \n",
      " 7   id                     726 non-null    float64\n",
      " 8   original_language      726 non-null    object \n",
      " 9   original_title         726 non-null    object \n",
      " 10  overview               723 non-null    object \n",
      " 11  popularity             726 non-null    float64\n",
      " 12  poster_path            700 non-null    object \n",
      " 13  production_companies   726 non-null    object \n",
      " 14  production_countries   726 non-null    object \n",
      " 15  release_date           725 non-null    object \n",
      " 16  revenue                726 non-null    float64\n",
      " 17  runtime                726 non-null    float64\n",
      " 18  spoken_languages       726 non-null    object \n",
      " 19  status                 726 non-null    object \n",
      " 20  tagline                547 non-null    object \n",
      " 21  title                  726 non-null    object \n",
      " 22  video                  726 non-null    float64\n",
      " 23  vote_average           726 non-null    float64\n",
      " 24  vote_count             726 non-null    float64\n",
      " 25  certification          473 non-null    object \n",
      "dtypes: float64(9), object(17)\n",
      "memory usage: 153.6+ KB\n"
     ]
    }
   ],
   "source": [
    "df.info()"
   ]
  },
  {
   "cell_type": "code",
   "execution_count": 26,
   "id": "397d7593-668e-4c59-9083-553add31087a",
   "metadata": {},
   "outputs": [
    {
     "data": {
      "text/html": [
       "<div>\n",
       "<style scoped>\n",
       "    .dataframe tbody tr th:only-of-type {\n",
       "        vertical-align: middle;\n",
       "    }\n",
       "\n",
       "    .dataframe tbody tr th {\n",
       "        vertical-align: top;\n",
       "    }\n",
       "\n",
       "    .dataframe thead th {\n",
       "        text-align: right;\n",
       "    }\n",
       "</style>\n",
       "<table border=\"1\" class=\"dataframe\">\n",
       "  <thead>\n",
       "    <tr style=\"text-align: right;\">\n",
       "      <th></th>\n",
       "      <th>adult</th>\n",
       "      <th>budget</th>\n",
       "      <th>id</th>\n",
       "      <th>popularity</th>\n",
       "      <th>revenue</th>\n",
       "      <th>runtime</th>\n",
       "      <th>video</th>\n",
       "      <th>vote_average</th>\n",
       "      <th>vote_count</th>\n",
       "    </tr>\n",
       "  </thead>\n",
       "  <tbody>\n",
       "    <tr>\n",
       "      <th>count</th>\n",
       "      <td>726.0</td>\n",
       "      <td>7.260000e+02</td>\n",
       "      <td>7.260000e+02</td>\n",
       "      <td>726.000000</td>\n",
       "      <td>7.260000e+02</td>\n",
       "      <td>726.000000</td>\n",
       "      <td>726.000000</td>\n",
       "      <td>726.000000</td>\n",
       "      <td>726.000000</td>\n",
       "    </tr>\n",
       "    <tr>\n",
       "      <th>mean</th>\n",
       "      <td>0.0</td>\n",
       "      <td>1.918843e+07</td>\n",
       "      <td>6.603944e+04</td>\n",
       "      <td>14.655814</td>\n",
       "      <td>4.438905e+07</td>\n",
       "      <td>102.396694</td>\n",
       "      <td>0.001377</td>\n",
       "      <td>5.651175</td>\n",
       "      <td>1065.037190</td>\n",
       "    </tr>\n",
       "    <tr>\n",
       "      <th>std</th>\n",
       "      <td>0.0</td>\n",
       "      <td>2.818381e+07</td>\n",
       "      <td>1.618316e+05</td>\n",
       "      <td>17.866964</td>\n",
       "      <td>1.083765e+08</td>\n",
       "      <td>22.765302</td>\n",
       "      <td>0.037113</td>\n",
       "      <td>1.806623</td>\n",
       "      <td>2656.390952</td>\n",
       "    </tr>\n",
       "    <tr>\n",
       "      <th>min</th>\n",
       "      <td>0.0</td>\n",
       "      <td>0.000000e+00</td>\n",
       "      <td>6.400000e+01</td>\n",
       "      <td>0.600000</td>\n",
       "      <td>0.000000e+00</td>\n",
       "      <td>0.000000</td>\n",
       "      <td>0.000000</td>\n",
       "      <td>0.000000</td>\n",
       "      <td>0.000000</td>\n",
       "    </tr>\n",
       "    <tr>\n",
       "      <th>25%</th>\n",
       "      <td>0.0</td>\n",
       "      <td>2.500000e+05</td>\n",
       "      <td>9.276250e+03</td>\n",
       "      <td>3.708500</td>\n",
       "      <td>0.000000e+00</td>\n",
       "      <td>91.000000</td>\n",
       "      <td>0.000000</td>\n",
       "      <td>5.300000</td>\n",
       "      <td>23.000000</td>\n",
       "    </tr>\n",
       "    <tr>\n",
       "      <th>50%</th>\n",
       "      <td>0.0</td>\n",
       "      <td>5.225000e+06</td>\n",
       "      <td>1.430500e+04</td>\n",
       "      <td>11.185000</td>\n",
       "      <td>3.137902e+06</td>\n",
       "      <td>99.000000</td>\n",
       "      <td>0.000000</td>\n",
       "      <td>6.055000</td>\n",
       "      <td>181.000000</td>\n",
       "    </tr>\n",
       "    <tr>\n",
       "      <th>75%</th>\n",
       "      <td>0.0</td>\n",
       "      <td>2.675000e+07</td>\n",
       "      <td>4.583975e+04</td>\n",
       "      <td>18.149750</td>\n",
       "      <td>3.534398e+07</td>\n",
       "      <td>111.000000</td>\n",
       "      <td>0.000000</td>\n",
       "      <td>6.700000</td>\n",
       "      <td>869.250000</td>\n",
       "    </tr>\n",
       "    <tr>\n",
       "      <th>max</th>\n",
       "      <td>0.0</td>\n",
       "      <td>1.400000e+08</td>\n",
       "      <td>1.182321e+06</td>\n",
       "      <td>169.101000</td>\n",
       "      <td>9.764756e+08</td>\n",
       "      <td>224.000000</td>\n",
       "      <td>1.000000</td>\n",
       "      <td>10.000000</td>\n",
       "      <td>25538.000000</td>\n",
       "    </tr>\n",
       "  </tbody>\n",
       "</table>\n",
       "</div>"
      ],
      "text/plain": [
       "       adult        budget            id  popularity       revenue  \\\n",
       "count  726.0  7.260000e+02  7.260000e+02  726.000000  7.260000e+02   \n",
       "mean     0.0  1.918843e+07  6.603944e+04   14.655814  4.438905e+07   \n",
       "std      0.0  2.818381e+07  1.618316e+05   17.866964  1.083765e+08   \n",
       "min      0.0  0.000000e+00  6.400000e+01    0.600000  0.000000e+00   \n",
       "25%      0.0  2.500000e+05  9.276250e+03    3.708500  0.000000e+00   \n",
       "50%      0.0  5.225000e+06  1.430500e+04   11.185000  3.137902e+06   \n",
       "75%      0.0  2.675000e+07  4.583975e+04   18.149750  3.534398e+07   \n",
       "max      0.0  1.400000e+08  1.182321e+06  169.101000  9.764756e+08   \n",
       "\n",
       "          runtime       video  vote_average    vote_count  \n",
       "count  726.000000  726.000000    726.000000    726.000000  \n",
       "mean   102.396694    0.001377      5.651175   1065.037190  \n",
       "std     22.765302    0.037113      1.806623   2656.390952  \n",
       "min      0.000000    0.000000      0.000000      0.000000  \n",
       "25%     91.000000    0.000000      5.300000     23.000000  \n",
       "50%     99.000000    0.000000      6.055000    181.000000  \n",
       "75%    111.000000    0.000000      6.700000    869.250000  \n",
       "max    224.000000    1.000000     10.000000  25538.000000  "
      ]
     },
     "execution_count": 26,
     "metadata": {},
     "output_type": "execute_result"
    }
   ],
   "source": [
    "df.describe()"
   ]
  },
  {
   "cell_type": "markdown",
   "id": "28a70a83-1e06-475d-99c0-5fee706bc90e",
   "metadata": {},
   "source": [
    "### How many movies had at least some valid financial information (values > 0 for budget OR revenue)?"
   ]
  },
  {
   "cell_type": "markdown",
   "id": "f6c85763-093f-4eb8-9bc4-485284e88f38",
   "metadata": {},
   "source": [
    "There are 726 movies that had some financial data in either budget or revenue"
   ]
  },
  {
   "cell_type": "markdown",
   "id": "e7da7700-e4af-4e07-a7a6-d885de9864f6",
   "metadata": {},
   "source": [
    "### How many movies are there in each of the certification categories (G/PG/PG-13/R)?"
   ]
  },
  {
   "cell_type": "code",
   "execution_count": 37,
   "id": "4df8afff-7a00-4154-8a3e-c5b60070678e",
   "metadata": {},
   "outputs": [
    {
     "data": {
      "image/png": "[encoded data removed]",
      "text/plain": [
       "<Figure size 640x480 with 1 Axes>"
      ]
     },
     "metadata": {},
     "output_type": "display_data"
    }
   ],
   "source": [
    "# Using seaborn to plot the group means\n",
    "ax = sns.countplot(data=df, x='certification')"
   ]
  },
  {
   "cell_type": "code",
   "execution_count": 41,
   "id": "87680220-9ddb-41af-89ab-cf75dc1094c2",
   "metadata": {},
   "outputs": [
    {
     "data": {
      "text/plain": [
       "R        246\n",
       "PG-13    148\n",
       "PG        42\n",
       "NR        22\n",
       "G         15\n",
       "Name: certification, dtype: int64"
      ]
     },
     "execution_count": 41,
     "metadata": {},
     "output_type": "execute_result"
    }
   ],
   "source": [
    "df['certification'].value_counts()"
   ]
  },
  {
   "cell_type": "markdown",
   "id": "08649e3b-c3a5-49e6-ae89-0668910f71af",
   "metadata": {},
   "source": [
    "The number of movies in the each certification category are as follows:\n",
    "\n",
    "R - 246\n",
    "\n",
    "PG-13 - 148\n",
    "\n",
    "PG - 42\n",
    "\n",
    "NR - 22\n",
    "\n",
    "G - 15\n"
   ]
  },
  {
   "cell_type": "markdown",
   "id": "afef9e44-84c7-425b-8596-4899284c88e6",
   "metadata": {},
   "source": [
    "### What is the average revenue per certification category?"
   ]
  },
  {
   "cell_type": "code",
   "execution_count": 43,
   "id": "2020c3d6-f5f1-4d1b-9520-450d19db671b",
   "metadata": {},
   "outputs": [
    {
     "data": {
      "image/png": "[encoded data removed]",
      "text/plain": [
       "<Figure size 640x480 with 1 Axes>"
      ]
     },
     "metadata": {},
     "output_type": "display_data"
    }
   ],
   "source": [
    "ax = sns.barplot(data=df, x='certification', y=\"revenue\")\n",
    "ax.set_title('Average Revenue by Certification');"
   ]
  },
  {
   "cell_type": "code",
   "execution_count": 47,
   "id": "7c7838f7-32e2-444d-9c62-6ea444220db2",
   "metadata": {},
   "outputs": [
    {
     "name": "stdout",
     "output_type": "stream",
     "text": [
      "certification\n",
      "G        1.096521e+08\n",
      "NR       3.126369e+06\n",
      "PG       1.547250e+08\n",
      "PG-13    9.805636e+07\n",
      "R        3.061073e+07\n",
      "Name: revenue, dtype: float64\n"
     ]
    }
   ],
   "source": [
    "# Group by certification categories and calculate the average revenue\n",
    "avg_revenue_by_certification = df.groupby('certification')['revenue'].mean()\n",
    "\n",
    "print(avg_revenue_by_certification)"
   ]
  },
  {
   "cell_type": "markdown",
   "id": "f33d2692-d800-4cd8-8d69-21ecef5ee20c",
   "metadata": {},
   "source": [
    "The average revenue per certification category is as follows:\n",
    "\n",
    "R - ~30 million\n",
    "\n",
    "PG-13 - ~98 million\n",
    "\n",
    "PG - ~154 million\n",
    "\n",
    "NR - ~3 million\n",
    "\n",
    "G - ~109 million"
   ]
  },
  {
   "cell_type": "markdown",
   "id": "de9d8a28-53ec-4c29-857b-79d89b868cc6",
   "metadata": {},
   "source": [
    "### What is the average budget per certification category?"
   ]
  },
  {
   "cell_type": "code",
   "execution_count": 45,
   "id": "6a6e03a3-2279-4189-9278-fc2e9a87ded1",
   "metadata": {},
   "outputs": [
    {
     "data": {
      "image/png": "[encoded data removed]",
      "text/plain": [
       "<Figure size 640x480 with 1 Axes>"
      ]
     },
     "metadata": {},
     "output_type": "display_data"
    }
   ],
   "source": [
    "ax = sns.barplot(data=df, x='certification', y=\"budget\")\n",
    "ax.set_title('Average Budget by Certification');"
   ]
  },
  {
   "cell_type": "code",
   "execution_count": 46,
   "id": "683ab447-ce6d-4dff-bbfc-8d0914f059a2",
   "metadata": {},
   "outputs": [
    {
     "name": "stdout",
     "output_type": "stream",
     "text": [
      "certification\n",
      "G        3.506667e+07\n",
      "NR       1.417364e+06\n",
      "PG       4.263624e+07\n",
      "PG-13    3.904182e+07\n",
      "R        1.908829e+07\n",
      "Name: budget, dtype: float64\n"
     ]
    }
   ],
   "source": [
    "# Group by certification categories and calculate the average budget\n",
    "avg_budget_by_certification = df.groupby('certification')['budget'].mean()\n",
    "\n",
    "print(avg_budget_by_certification)"
   ]
  },
  {
   "cell_type": "markdown",
   "id": "d7248ab0-6eef-4288-ab45-c11fa861e2ea",
   "metadata": {},
   "source": [
    "The average budget per certification category is as follows:\n",
    "\n",
    "R - ~19 million\n",
    "\n",
    "PG-13 - ~39 million\n",
    "\n",
    "PG - ~42 million\n",
    "\n",
    "NR - ~1.4 million\n",
    "\n",
    "G - ~35 million"
   ]
  }
 ],
 "metadata": {
  "kernelspec": {
   "display_name": "Python (dojo-env)",
   "language": "python",
   "name": "dojo-env"
  },
  "language_info": {
   "codemirror_mode": {
    "name": "ipython",
    "version": 3
   },
   "file_extension": ".py",
   "mimetype": "text/x-python",
   "name": "python",
   "nbconvert_exporter": "python",
   "pygments_lexer": "ipython3",
   "version": "3.10.10"
  },
  "widgets": {
   "application/vnd.jupyter.widget-state+json": {
    "state": {},
    "version_major": 2,
    "version_minor": 0
   }
  }
 },
 "nbformat": 4,
 "nbformat_minor": 5
}
